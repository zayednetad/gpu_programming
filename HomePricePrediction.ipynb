{
  "nbformat": 4,
  "nbformat_minor": 0,
  "metadata": {
    "colab": {
      "provenance": [],
      "authorship_tag": "ABX9TyOuz6e+Kipe745Hlh8EaQLo",
      "include_colab_link": true
    },
    "kernelspec": {
      "name": "python3",
      "display_name": "Python 3"
    },
    "language_info": {
      "name": "python"
    }
  },
  "cells": [
    {
      "cell_type": "markdown",
      "metadata": {
        "id": "view-in-github",
        "colab_type": "text"
      },
      "source": [
        "<a href=\"https://colab.research.google.com/github/zayednetad/gpu_programming/blob/main/HomePricePrediction.ipynb\" target=\"_parent\"><img src=\"https://colab.research.google.com/assets/colab-badge.svg\" alt=\"Open In Colab\"/></a>"
      ]
    },
    {
      "cell_type": "markdown",
      "source": [
        "**An example of how to use the model?**\n",
        "1. Download the train dataset from https://www.kaggle.com/datasets/nickptaylor/iowa-house-prices\n",
        "2. Upload to colab, the typical path is /content/train.csv\n",
        "3. Then perform ML training on the IOWA House Pricing Data and save the model\n",
        "4. We will use Flask to create website to use the model for prediction of new house data, first we need to install related python packages\n",
        "5. We will use ngrok auth token to able to launch the created Flask website\n",
        "6. Then we will run the python flask code to create and launch the website\n",
        "7. We will provide input data to predict home price"
      ],
      "metadata": {
        "id": "FkdiWhnj8Rtb"
      }
    },
    {
      "cell_type": "code",
      "execution_count": 16,
      "metadata": {
        "colab": {
          "base_uri": "https://localhost:8080/"
        },
        "id": "vkoSx2tysd4W",
        "outputId": "08086906-3b75-4d16-e7a7-586592ef8b37"
      },
      "outputs": [
        {
          "output_type": "stream",
          "name": "stdout",
          "text": [
            "Model saved as 'iowa_model.pkl'\n"
          ]
        }
      ],
      "source": [
        "import pandas as pd\n",
        "from sklearn.tree import DecisionTreeRegressor\n",
        "import joblib\n",
        "\n",
        "# Load the data\n",
        "mlb_file_path = '/content/train.csv'\n",
        "home_data = pd.read_csv(mlb_file_path)\n",
        "\n",
        "# Define features and target\n",
        "y = home_data.SalePrice\n",
        "feature_names = ['LotArea', 'YearBuilt', '1stFlrSF', '2ndFlrSF', 'FullBath', 'BedroomAbvGr', 'TotRmsAbvGrd']\n",
        "X = home_data[feature_names]\n",
        "\n",
        "# Train the model\n",
        "iowa_model = DecisionTreeRegressor(random_state=1)\n",
        "iowa_model.fit(X, y)\n",
        "\n",
        "# Save the model to file\n",
        "joblib.dump(iowa_model, 'iowa_model.pkl')\n",
        "print(\"Model saved as 'iowa_model.pkl'\")"
      ]
    },
    {
      "cell_type": "code",
      "source": [
        "!pip install flask pyngrok joblib scikit-learn"
      ],
      "metadata": {
        "colab": {
          "base_uri": "https://localhost:8080/"
        },
        "id": "lMoMzHjizitb",
        "outputId": "b30eaf22-57f6-4331-8263-c1fff419fd64"
      },
      "execution_count": 17,
      "outputs": [
        {
          "output_type": "stream",
          "name": "stdout",
          "text": [
            "Requirement already satisfied: flask in /usr/local/lib/python3.11/dist-packages (3.1.1)\n",
            "Requirement already satisfied: pyngrok in /usr/local/lib/python3.11/dist-packages (7.2.8)\n",
            "Requirement already satisfied: joblib in /usr/local/lib/python3.11/dist-packages (1.5.0)\n",
            "Requirement already satisfied: scikit-learn in /usr/local/lib/python3.11/dist-packages (1.6.1)\n",
            "Requirement already satisfied: blinker>=1.9.0 in /usr/local/lib/python3.11/dist-packages (from flask) (1.9.0)\n",
            "Requirement already satisfied: click>=8.1.3 in /usr/local/lib/python3.11/dist-packages (from flask) (8.2.0)\n",
            "Requirement already satisfied: itsdangerous>=2.2.0 in /usr/local/lib/python3.11/dist-packages (from flask) (2.2.0)\n",
            "Requirement already satisfied: jinja2>=3.1.2 in /usr/local/lib/python3.11/dist-packages (from flask) (3.1.6)\n",
            "Requirement already satisfied: markupsafe>=2.1.1 in /usr/local/lib/python3.11/dist-packages (from flask) (3.0.2)\n",
            "Requirement already satisfied: werkzeug>=3.1.0 in /usr/local/lib/python3.11/dist-packages (from flask) (3.1.3)\n",
            "Requirement already satisfied: PyYAML>=5.1 in /usr/local/lib/python3.11/dist-packages (from pyngrok) (6.0.2)\n",
            "Requirement already satisfied: numpy>=1.19.5 in /usr/local/lib/python3.11/dist-packages (from scikit-learn) (2.0.2)\n",
            "Requirement already satisfied: scipy>=1.6.0 in /usr/local/lib/python3.11/dist-packages (from scikit-learn) (1.15.3)\n",
            "Requirement already satisfied: threadpoolctl>=3.1.0 in /usr/local/lib/python3.11/dist-packages (from scikit-learn) (3.6.0)\n"
          ]
        }
      ]
    },
    {
      "cell_type": "code",
      "source": [
        "from pyngrok import conf\n",
        "conf.get_default().auth_token = \"1abGKpas61AzmZsytmGUWgb8f1r_3eRYsdkrZtpi6wV7KtRGc\""
      ],
      "metadata": {
        "id": "3radeAFd7OM6"
      },
      "execution_count": 18,
      "outputs": []
    },
    {
      "cell_type": "code",
      "source": [
        "from flask import Flask, request, render_template_string\n",
        "from pyngrok import ngrok\n",
        "import joblib\n",
        "import numpy as np\n",
        "\n",
        "# Load your model\n",
        "model = joblib.load(\"/content/iowa_model.pkl\")\n",
        "\n",
        "# Start Flask app\n",
        "app = Flask(__name__)\n",
        "\n",
        "HTML_TEMPLATE = '''\n",
        "<!DOCTYPE html>\n",
        "<html>\n",
        "<head><title>House Price Predictor</title></head>\n",
        "<body>\n",
        "    <h2>Enter House Features</h2>\n",
        "    <form method=\"POST\">\n",
        "        <label>Lot Area: </label><input type=\"text\" name=\"LotArea\"><br><br>\n",
        "        <label>Year Built: </label><input type=\"text\" name=\"YearBuilt\"><br><br>\n",
        "        <label>1st Floor SF: </label><input type=\"text\" name=\"1stFlrSF\"><br><br>\n",
        "        <label>2nd Floor SF: </label><input type=\"text\" name=\"2ndFlrSF\"><br><br>\n",
        "        <label>Full Bath: </label><input type=\"text\" name=\"FullBath\"><br><br>\n",
        "        <label>Bedrooms Above Ground: </label><input type=\"text\" name=\"BedroomAbvGr\"><br><br>\n",
        "        <label>Total Rooms Above Ground: </label><input type=\"text\" name=\"TotRmsAbvGrd\"><br><br>\n",
        "        <input type=\"submit\" value=\"Predict Sale Price\">\n",
        "    </form>\n",
        "    {% if prediction %}\n",
        "        <h3>Predicted Sale Price: {{ prediction }}</h3>\n",
        "    {% endif %}\n",
        "</body>\n",
        "</html>\n",
        "'''\n",
        "\n",
        "@app.route(\"/\", methods=[\"GET\", \"POST\"])\n",
        "def predict():\n",
        "    prediction = None\n",
        "    if request.method == 'POST':\n",
        "        try:\n",
        "            input_data = np.array([[\n",
        "                float(request.form['LotArea']),\n",
        "                int(request.form['YearBuilt']),\n",
        "                float(request.form['1stFlrSF']),\n",
        "                float(request.form['2ndFlrSF']),\n",
        "                int(request.form['FullBath']),\n",
        "                int(request.form['BedroomAbvGr']),\n",
        "                int(request.form['TotRmsAbvGrd'])\n",
        "            ]])\n",
        "            prediction = round(model.predict(input_data)[0], 2)\n",
        "        except Exception as e:\n",
        "            prediction = f\"Error: {str(e)}\"\n",
        "\n",
        "    return render_template_string(HTML_TEMPLATE, prediction=prediction)\n",
        "\n",
        "# 🔥 Expose via public URL\n",
        "public_url = ngrok.connect(5000)\n",
        "print(\"🚀 Flask app running at:\", public_url)\n",
        "\n",
        "app.run(port=5000)"
      ],
      "metadata": {
        "colab": {
          "base_uri": "https://localhost:8080/"
        },
        "id": "pdqsiYXjzbaD",
        "outputId": "e55ea9d4-223e-4371-b63b-7f55f9577b36"
      },
      "execution_count": 19,
      "outputs": [
        {
          "output_type": "stream",
          "name": "stdout",
          "text": [
            "🚀 Flask app running at: NgrokTunnel: \"https://fb78-35-198-201-27.ngrok-free.app\" -> \"http://localhost:5000\"\n",
            " * Serving Flask app '__main__'\n",
            " * Debug mode: off\n"
          ]
        },
        {
          "output_type": "stream",
          "name": "stderr",
          "text": [
            "INFO:werkzeug:\u001b[31m\u001b[1mWARNING: This is a development server. Do not use it in a production deployment. Use a production WSGI server instead.\u001b[0m\n",
            " * Running on http://127.0.0.1:5000\n",
            "INFO:werkzeug:\u001b[33mPress CTRL+C to quit\u001b[0m\n",
            "INFO:werkzeug:127.0.0.1 - - [16/May/2025 21:33:45] \"GET / HTTP/1.1\" 200 -\n",
            "INFO:werkzeug:127.0.0.1 - - [16/May/2025 21:33:46] \"\u001b[33mGET /favicon.ico HTTP/1.1\u001b[0m\" 404 -\n",
            "/usr/local/lib/python3.11/dist-packages/sklearn/utils/validation.py:2739: UserWarning: X does not have valid feature names, but DecisionTreeRegressor was fitted with feature names\n",
            "  warnings.warn(\n",
            "INFO:werkzeug:127.0.0.1 - - [16/May/2025 21:36:34] \"POST / HTTP/1.1\" 200 -\n"
          ]
        }
      ]
    }
  ]
}